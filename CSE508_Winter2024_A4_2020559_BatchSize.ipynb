{
  "metadata": {
    "kernelspec": {
      "display_name": "Python 3",
      "name": "python3"
    },
    "language_info": {
      "name": "python",
      "version": "3.10.13",
      "mimetype": "text/x-python",
      "codemirror_mode": {
        "name": "ipython",
        "version": 3
      },
      "pygments_lexer": "ipython3",
      "nbconvert_exporter": "python",
      "file_extension": ".py"
    },
    "kaggle": {
      "accelerator": "gpu",
      "dataSources": [
        {
          "sourceId": 2157,
          "sourceType": "datasetVersion",
          "datasetId": 18
        }
      ],
      "dockerImageVersionId": 30699,
      "isInternetEnabled": true,
      "language": "python",
      "sourceType": "notebook",
      "isGpuEnabled": true
    },
    "colab": {
      "provenance": [],
      "gpuType": "T4"
    },
    "accelerator": "GPU"
  },
  "nbformat_minor": 0,
  "nbformat": 4,
  "cells": [
    {
      "cell_type": "code",
      "source": [
        "import pandas as pd\n",
        "import numpy as np\n",
        "from sklearn.model_selection import train_test_split\n",
        "from transformers import GPT2Tokenizer, GPT2LMHeadModel\n",
        "import torch\n",
        "from torch.utils.data import Dataset, DataLoader\n",
        "from tqdm import tqdm\n",
        "from google.colab import drive\n",
        "drive.mount('/content/drive')"
      ],
      "metadata": {
        "execution": {
          "iopub.status.busy": "2024-04-23T01:21:55.569180Z",
          "iopub.execute_input": "2024-04-23T01:21:55.569478Z",
          "iopub.status.idle": "2024-04-23T01:22:05.369033Z",
          "shell.execute_reply.started": "2024-04-23T01:21:55.569453Z",
          "shell.execute_reply": "2024-04-23T01:22:05.368260Z"
        },
        "trusted": true,
        "colab": {
          "base_uri": "https://localhost:8080/"
        },
        "id": "3wSXfjGhm55Q",
        "outputId": "9598f88d-8c6b-4993-bb92-6ee69c31d7e8"
      },
      "execution_count": 1,
      "outputs": [
        {
          "output_type": "stream",
          "name": "stdout",
          "text": [
            "Mounted at /content/drive\n"
          ]
        }
      ]
    },
    {
      "cell_type": "code",
      "source": [
        "data = pd.read_csv('/content/drive/MyDrive/Reviews.csv')\n",
        "\n",
        "data = data[['Text', 'Summary']].dropna()\n",
        "\n",
        "data['Text'] = data['Text'].str.lower()\n",
        "data['Summary'] = data['Summary'].str.lower()\n",
        "\n",
        "tokenizer = GPT2Tokenizer.from_pretrained('gpt2')\n",
        "model = GPT2LMHeadModel.from_pretrained('gpt2')"
      ],
      "metadata": {
        "execution": {
          "iopub.status.busy": "2024-04-23T01:22:05.370876Z",
          "iopub.execute_input": "2024-04-23T01:22:05.371854Z",
          "iopub.status.idle": "2024-04-23T01:22:17.920535Z",
          "shell.execute_reply.started": "2024-04-23T01:22:05.371814Z",
          "shell.execute_reply": "2024-04-23T01:22:17.919187Z"
        },
        "trusted": true,
        "id": "FT2n7Pndm55S"
      },
      "execution_count": 7,
      "outputs": []
    },
    {
      "cell_type": "code",
      "source": [
        "# Divide the dataset into training and testing (75:25)\n",
        "data_used, waste_data = train_test_split(data, test_size=0.6, random_state=42)\n",
        "train_data, test_data = train_test_split(data_used, test_size=0.25, random_state=42)"
      ],
      "metadata": {
        "execution": {
          "iopub.status.busy": "2024-04-23T01:22:17.922435Z",
          "iopub.execute_input": "2024-04-23T01:22:17.922859Z",
          "iopub.status.idle": "2024-04-23T01:22:18.128641Z",
          "shell.execute_reply.started": "2024-04-23T01:22:17.922822Z",
          "shell.execute_reply": "2024-04-23T01:22:18.127667Z"
        },
        "trusted": true,
        "id": "EFLpNW5Lm55T"
      },
      "execution_count": 8,
      "outputs": []
    },
    {
      "cell_type": "code",
      "source": [
        "# Implement a custom dataset class\n",
        "class ReviewDataset(Dataset):\n",
        "    def __init__(self, texts, summaries, tokenizer, max_length=40):\n",
        "        self.texts = texts\n",
        "        self.summaries = summaries\n",
        "        self.tokenizer = tokenizer\n",
        "        self.max_length = max_length\n",
        "\n",
        "    def __len__(self):\n",
        "        return len(self.texts)\n",
        "\n",
        "    def __getitem__(self, idx):\n",
        "        text = self.texts.iloc[idx]\n",
        "        summary = self.summaries.iloc[idx]\n",
        "\n",
        "        input_ids = self.tokenizer.encode(text, truncation=True, max_length=self.max_length, padding='max_length')\n",
        "        labels = self.tokenizer.encode(summary, truncation=True, max_length=self.max_length, padding='max_length')\n",
        "\n",
        "        return torch.tensor(input_ids), torch.tensor(labels)\n",
        "\n",
        "# Initialize datasets and dataloaders\n",
        "train_dataset = ReviewDataset(train_data['Text'], train_data['Summary'], tokenizer)\n",
        "test_dataset = ReviewDataset(test_data['Text'], test_data['Summary'], tokenizer)\n",
        "train_dataloader = DataLoader(train_dataset, batch_size=32, shuffle=True)\n",
        "test_dataloader = DataLoader(test_dataset, batch_size=32, shuffle=False)\n",
        "\n"
      ],
      "metadata": {
        "execution": {
          "iopub.status.busy": "2024-04-23T01:22:18.130446Z",
          "iopub.execute_input": "2024-04-23T01:22:18.130733Z",
          "iopub.status.idle": "2024-04-23T01:22:18.142310Z",
          "shell.execute_reply.started": "2024-04-23T01:22:18.130710Z",
          "shell.execute_reply": "2024-04-23T01:22:18.141392Z"
        },
        "trusted": true,
        "id": "S4tAz2-um55T"
      },
      "execution_count": 9,
      "outputs": []
    },
    {
      "cell_type": "code",
      "source": [
        "torch.cuda.empty_cache()"
      ],
      "metadata": {
        "execution": {
          "iopub.status.busy": "2024-04-23T01:22:18.143716Z",
          "iopub.execute_input": "2024-04-23T01:22:18.143979Z",
          "iopub.status.idle": "2024-04-23T01:22:18.290060Z",
          "shell.execute_reply.started": "2024-04-23T01:22:18.143956Z",
          "shell.execute_reply": "2024-04-23T01:22:18.289152Z"
        },
        "trusted": true,
        "id": "asGg3xG2m55U"
      },
      "execution_count": 10,
      "outputs": []
    },
    {
      "cell_type": "code",
      "source": [
        "# Fine-tune the GPT-2 model\n",
        "device = torch.device(\"cuda\" if torch.cuda.is_available() else \"cpu\")\n",
        "print(device)\n",
        "model.to(device)\n",
        "optimizer = torch.optim.AdamW(model.parameters(), lr=1e-5)\n",
        "epochs = 3\n",
        "tokenizer.pad_token = tokenizer.eos_token\n",
        "\n",
        "torch.cuda.empty_cache()\n",
        "for epoch in range(epochs):\n",
        "    model.train()\n",
        "    total_loss = 0\n",
        "    c=0\n",
        "    for input_ids, labels in tqdm(train_dataloader, desc=f'Epoch {epoch + 1}/{epochs}'):\n",
        "        c+=1\n",
        "        if c%500==0:\n",
        "            print(c)\n",
        "        input_ids = input_ids.to(device)\n",
        "        labels = labels.to(device)\n",
        "\n",
        "        optimizer.zero_grad()\n",
        "\n",
        "        outputs = model(input_ids=input_ids, labels=labels)\n",
        "        loss = outputs.loss\n",
        "        total_loss += loss.item()\n",
        "\n",
        "        loss.backward()\n",
        "        optimizer.step()\n",
        "\n",
        "        torch.cuda.empty_cache()\n",
        "    avg_train_loss = total_loss / len(train_dataloader)\n",
        "    print(f'Average training loss: {avg_train_loss}')\n",
        "\n",
        "# Save the fine-tuned model\n",
        "model.save_pretrained('fine_tuned_gpt2_model')\n"
      ],
      "metadata": {
        "execution": {
          "iopub.status.busy": "2024-04-23T01:22:18.291126Z",
          "iopub.execute_input": "2024-04-23T01:22:18.291462Z"
        },
        "trusted": true,
        "colab": {
          "base_uri": "https://localhost:8080/"
        },
        "id": "4UcmWdt8m55U",
        "outputId": "8e6ef453-7306-4ae0-cb23-d43366425813"
      },
      "execution_count": 11,
      "outputs": [
        {
          "output_type": "stream",
          "name": "stdout",
          "text": [
            "cuda\n"
          ]
        },
        {
          "output_type": "stream",
          "name": "stderr",
          "text": [
            "Epoch 1/3:   9%|▉         | 499/5329 [03:11<31:31,  2.55it/s]"
          ]
        },
        {
          "output_type": "stream",
          "name": "stdout",
          "text": [
            "500\n"
          ]
        },
        {
          "output_type": "stream",
          "name": "stderr",
          "text": [
            "Epoch 1/3:  19%|█▊        | 999/5329 [06:24<27:55,  2.58it/s]"
          ]
        },
        {
          "output_type": "stream",
          "name": "stdout",
          "text": [
            "1000\n"
          ]
        },
        {
          "output_type": "stream",
          "name": "stderr",
          "text": [
            "Epoch 1/3:  28%|██▊       | 1499/5329 [09:38<24:34,  2.60it/s]"
          ]
        },
        {
          "output_type": "stream",
          "name": "stdout",
          "text": [
            "1500\n"
          ]
        },
        {
          "output_type": "stream",
          "name": "stderr",
          "text": [
            "Epoch 1/3:  38%|███▊      | 1999/5329 [12:52<21:48,  2.54it/s]"
          ]
        },
        {
          "output_type": "stream",
          "name": "stdout",
          "text": [
            "2000\n"
          ]
        },
        {
          "output_type": "stream",
          "name": "stderr",
          "text": [
            "Epoch 1/3:  47%|████▋     | 2499/5329 [16:06<18:07,  2.60it/s]"
          ]
        },
        {
          "output_type": "stream",
          "name": "stdout",
          "text": [
            "2500\n"
          ]
        },
        {
          "output_type": "stream",
          "name": "stderr",
          "text": [
            "Epoch 1/3:  56%|█████▋    | 2999/5329 [19:20<15:03,  2.58it/s]"
          ]
        },
        {
          "output_type": "stream",
          "name": "stdout",
          "text": [
            "3000\n"
          ]
        },
        {
          "output_type": "stream",
          "name": "stderr",
          "text": [
            "Epoch 1/3:  66%|██████▌   | 3499/5329 [22:34<12:00,  2.54it/s]"
          ]
        },
        {
          "output_type": "stream",
          "name": "stdout",
          "text": [
            "3500\n"
          ]
        },
        {
          "output_type": "stream",
          "name": "stderr",
          "text": [
            "Epoch 1/3:  75%|███████▌  | 3999/5329 [25:48<08:27,  2.62it/s]"
          ]
        },
        {
          "output_type": "stream",
          "name": "stdout",
          "text": [
            "4000\n"
          ]
        },
        {
          "output_type": "stream",
          "name": "stderr",
          "text": [
            "Epoch 1/3:  84%|████████▍ | 4499/5329 [29:02<05:28,  2.53it/s]"
          ]
        },
        {
          "output_type": "stream",
          "name": "stdout",
          "text": [
            "4500\n"
          ]
        },
        {
          "output_type": "stream",
          "name": "stderr",
          "text": [
            "Epoch 1/3:  94%|█████████▍| 4999/5329 [32:15<02:07,  2.58it/s]"
          ]
        },
        {
          "output_type": "stream",
          "name": "stdout",
          "text": [
            "5000\n"
          ]
        },
        {
          "output_type": "stream",
          "name": "stderr",
          "text": [
            "Epoch 1/3: 100%|██████████| 5329/5329 [34:23<00:00,  2.58it/s]\n"
          ]
        },
        {
          "output_type": "stream",
          "name": "stdout",
          "text": [
            "Average training loss: 0.9952735262777014\n"
          ]
        },
        {
          "output_type": "stream",
          "name": "stderr",
          "text": [
            "Epoch 2/3:   9%|▉         | 499/5329 [03:13<30:56,  2.60it/s]"
          ]
        },
        {
          "output_type": "stream",
          "name": "stdout",
          "text": [
            "500\n"
          ]
        },
        {
          "output_type": "stream",
          "name": "stderr",
          "text": [
            "Epoch 2/3:  19%|█▊        | 999/5329 [06:26<28:24,  2.54it/s]"
          ]
        },
        {
          "output_type": "stream",
          "name": "stdout",
          "text": [
            "1000\n"
          ]
        },
        {
          "output_type": "stream",
          "name": "stderr",
          "text": [
            "Epoch 2/3:  28%|██▊       | 1499/5329 [09:40<24:27,  2.61it/s]"
          ]
        },
        {
          "output_type": "stream",
          "name": "stdout",
          "text": [
            "1500\n"
          ]
        },
        {
          "output_type": "stream",
          "name": "stderr",
          "text": [
            "Epoch 2/3:  38%|███▊      | 1999/5329 [12:54<21:16,  2.61it/s]"
          ]
        },
        {
          "output_type": "stream",
          "name": "stdout",
          "text": [
            "2000\n"
          ]
        },
        {
          "output_type": "stream",
          "name": "stderr",
          "text": [
            "Epoch 2/3:  47%|████▋     | 2499/5329 [16:07<18:35,  2.54it/s]"
          ]
        },
        {
          "output_type": "stream",
          "name": "stdout",
          "text": [
            "2500\n"
          ]
        },
        {
          "output_type": "stream",
          "name": "stderr",
          "text": [
            "Epoch 2/3:  56%|█████▋    | 2999/5329 [19:20<14:47,  2.62it/s]"
          ]
        },
        {
          "output_type": "stream",
          "name": "stdout",
          "text": [
            "3000\n"
          ]
        },
        {
          "output_type": "stream",
          "name": "stderr",
          "text": [
            "Epoch 2/3:  66%|██████▌   | 3499/5329 [22:34<11:46,  2.59it/s]"
          ]
        },
        {
          "output_type": "stream",
          "name": "stdout",
          "text": [
            "3500\n"
          ]
        },
        {
          "output_type": "stream",
          "name": "stderr",
          "text": [
            "Epoch 2/3:  75%|███████▌  | 3999/5329 [25:48<08:27,  2.62it/s]"
          ]
        },
        {
          "output_type": "stream",
          "name": "stdout",
          "text": [
            "4000\n"
          ]
        },
        {
          "output_type": "stream",
          "name": "stderr",
          "text": [
            "Epoch 2/3:  84%|████████▍ | 4499/5329 [29:01<05:16,  2.62it/s]"
          ]
        },
        {
          "output_type": "stream",
          "name": "stdout",
          "text": [
            "4500\n"
          ]
        },
        {
          "output_type": "stream",
          "name": "stderr",
          "text": [
            "Epoch 2/3:  94%|█████████▍| 4999/5329 [32:15<02:08,  2.56it/s]"
          ]
        },
        {
          "output_type": "stream",
          "name": "stdout",
          "text": [
            "5000\n"
          ]
        },
        {
          "output_type": "stream",
          "name": "stderr",
          "text": [
            "Epoch 2/3: 100%|██████████| 5329/5329 [34:23<00:00,  2.58it/s]\n"
          ]
        },
        {
          "output_type": "stream",
          "name": "stdout",
          "text": [
            "Average training loss: 0.9461870716937512\n"
          ]
        },
        {
          "output_type": "stream",
          "name": "stderr",
          "text": [
            "Epoch 3/3:   9%|▉         | 499/5329 [03:13<30:45,  2.62it/s]"
          ]
        },
        {
          "output_type": "stream",
          "name": "stdout",
          "text": [
            "500\n"
          ]
        },
        {
          "output_type": "stream",
          "name": "stderr",
          "text": [
            "Epoch 3/3:  19%|█▊        | 999/5329 [06:27<28:52,  2.50it/s]"
          ]
        },
        {
          "output_type": "stream",
          "name": "stdout",
          "text": [
            "1000\n"
          ]
        },
        {
          "output_type": "stream",
          "name": "stderr",
          "text": [
            "Epoch 3/3:  28%|██▊       | 1499/5329 [09:41<24:26,  2.61it/s]"
          ]
        },
        {
          "output_type": "stream",
          "name": "stdout",
          "text": [
            "1500\n"
          ]
        },
        {
          "output_type": "stream",
          "name": "stderr",
          "text": [
            "Epoch 3/3:  38%|███▊      | 1999/5329 [12:55<21:11,  2.62it/s]"
          ]
        },
        {
          "output_type": "stream",
          "name": "stdout",
          "text": [
            "2000\n"
          ]
        },
        {
          "output_type": "stream",
          "name": "stderr",
          "text": [
            "Epoch 3/3:  47%|████▋     | 2499/5329 [16:09<18:35,  2.54it/s]"
          ]
        },
        {
          "output_type": "stream",
          "name": "stdout",
          "text": [
            "2500\n"
          ]
        },
        {
          "output_type": "stream",
          "name": "stderr",
          "text": [
            "Epoch 3/3:  56%|█████▋    | 2999/5329 [19:23<14:52,  2.61it/s]"
          ]
        },
        {
          "output_type": "stream",
          "name": "stdout",
          "text": [
            "3000\n"
          ]
        },
        {
          "output_type": "stream",
          "name": "stderr",
          "text": [
            "Epoch 3/3:  66%|██████▌   | 3499/5329 [22:37<11:42,  2.61it/s]"
          ]
        },
        {
          "output_type": "stream",
          "name": "stdout",
          "text": [
            "3500\n"
          ]
        },
        {
          "output_type": "stream",
          "name": "stderr",
          "text": [
            "Epoch 3/3:  75%|███████▌  | 3999/5329 [25:51<08:58,  2.47it/s]"
          ]
        },
        {
          "output_type": "stream",
          "name": "stdout",
          "text": [
            "4000\n"
          ]
        },
        {
          "output_type": "stream",
          "name": "stderr",
          "text": [
            "Epoch 3/3:  84%|████████▍ | 4499/5329 [29:05<05:15,  2.63it/s]"
          ]
        },
        {
          "output_type": "stream",
          "name": "stdout",
          "text": [
            "4500\n"
          ]
        },
        {
          "output_type": "stream",
          "name": "stderr",
          "text": [
            "Epoch 3/3:  94%|█████████▍| 4999/5329 [32:19<02:06,  2.61it/s]"
          ]
        },
        {
          "output_type": "stream",
          "name": "stdout",
          "text": [
            "5000\n"
          ]
        },
        {
          "output_type": "stream",
          "name": "stderr",
          "text": [
            "Epoch 3/3: 100%|██████████| 5329/5329 [34:27<00:00,  2.58it/s]\n"
          ]
        },
        {
          "output_type": "stream",
          "name": "stdout",
          "text": [
            "Average training loss: 0.9356498283166826\n"
          ]
        }
      ]
    },
    {
      "cell_type": "code",
      "source": [
        "model.save_pretrained('fine_tuned_gpt2_model_batch')"
      ],
      "metadata": {
        "id": "8i96CYtiBaxM"
      },
      "execution_count": 12,
      "outputs": []
    },
    {
      "cell_type": "code",
      "source": [
        "!pip install rouge\n",
        "from rouge import Rouge\n",
        "\n",
        "def calculate_rouge_scores(hypotheses, references):\n",
        "    rouge = Rouge()\n",
        "    scores = rouge.get_scores(hypotheses, references, avg=True)\n",
        "    return scores\n",
        "\n"
      ],
      "metadata": {
        "execution": {
          "iopub.status.busy": "2024-04-22T20:27:06.567679Z",
          "iopub.execute_input": "2024-04-22T20:27:06.568626Z",
          "iopub.status.idle": "2024-04-22T20:27:06.604211Z",
          "shell.execute_reply.started": "2024-04-22T20:27:06.568593Z",
          "shell.execute_reply": "2024-04-22T20:27:06.603145Z"
        },
        "trusted": true,
        "colab": {
          "base_uri": "https://localhost:8080/"
        },
        "id": "3VV6bxh6m55U",
        "outputId": "4e3e4d85-b3ca-44d7-bbbb-856646b1cb66"
      },
      "execution_count": 13,
      "outputs": [
        {
          "output_type": "stream",
          "name": "stdout",
          "text": [
            "Collecting rouge\n",
            "  Downloading rouge-1.0.1-py3-none-any.whl (13 kB)\n",
            "Requirement already satisfied: six in /usr/local/lib/python3.10/dist-packages (from rouge) (1.16.0)\n",
            "Installing collected packages: rouge\n",
            "Successfully installed rouge-1.0.1\n"
          ]
        }
      ]
    },
    {
      "cell_type": "code",
      "source": [
        "from transformers.utils import logging\n",
        "logging.set_verbosity_error()\n",
        "list_of_rouge = []\n",
        "\n",
        "if torch.cuda.is_available():\n",
        "    torch.cuda.empty_cache()\n",
        "\n",
        "# for input_ids, labels in tqdm(test_dataloader, desc=f'Epoch {epoch + 1}/{epochs}'):\n",
        "for input_ids, labels in tqdm(test_dataloader):\n",
        "\n",
        "    input_ids = input_ids.to(device)\n",
        "    labels = labels.to(device)\n",
        "    attention_mask = torch.ones(input_ids.shape, dtype=torch.long).to(device)\n",
        "    pad_token_id = tokenizer.eos_token_id\n",
        "\n",
        "    outputs = model.generate(input_ids, attention_mask=attention_mask, pad_token_id=pad_token_id, max_new_tokens=10)\n",
        "    output_text = tokenizer.decode(outputs[0], skip_special_tokens=True)\n",
        "    labels_text = tokenizer.decode(labels[0], skip_special_tokens=True)\n",
        "    roug_score = calculate_rouge_scores(output_text, labels_text)\n",
        "    list_of_rouge.append(roug_score)\n",
        "    torch.cuda.empty_cache()"
      ],
      "metadata": {
        "execution": {
          "iopub.status.busy": "2024-04-22T20:14:43.006755Z",
          "iopub.status.idle": "2024-04-22T20:14:43.007188Z",
          "shell.execute_reply.started": "2024-04-22T20:14:43.006966Z",
          "shell.execute_reply": "2024-04-22T20:14:43.006985Z"
        },
        "trusted": true,
        "colab": {
          "base_uri": "https://localhost:8080/"
        },
        "id": "AWyXyK1em55V",
        "outputId": "5c8d48c7-814e-4cfc-cc64-17e4e2310ebc"
      },
      "execution_count": 14,
      "outputs": [
        {
          "output_type": "stream",
          "name": "stderr",
          "text": [
            "100%|██████████| 1777/1777 [03:29<00:00,  8.49it/s]\n"
          ]
        }
      ]
    },
    {
      "cell_type": "code",
      "source": [
        "final_rouge = {'rouge-1': {'f': 0.0, 'p': 0.0, 'r': 0.0},'rouge-2': {'f': 0.0, 'p': 0.0, 'r': 0.0},'rouge-l': {'f': 0.0, 'p': 0.0, 'r': 0.0}}\n",
        "for rg in list_of_rouge:\n",
        "    final_rouge['rouge-1']['r']+=rg['rouge-1']['r']\n",
        "    final_rouge['rouge-1']['p']+=rg['rouge-1']['p']\n",
        "    final_rouge['rouge-1']['f']+=rg['rouge-1']['f']\n",
        "    final_rouge['rouge-2']['r']+=rg['rouge-2']['r']\n",
        "    final_rouge['rouge-2']['p']+=rg['rouge-2']['p']\n",
        "    final_rouge['rouge-2']['f']+=rg['rouge-2']['f']\n",
        "    final_rouge['rouge-l']['r']+=rg['rouge-l']['r']\n",
        "    final_rouge['rouge-l']['p']+=rg['rouge-l']['p']\n",
        "    final_rouge['rouge-l']['f']+=rg['rouge-l']['f']\n",
        "\n",
        "final_rouge['rouge-1']['r']/=len(list_of_rouge)\n",
        "final_rouge['rouge-1']['p']/=len(list_of_rouge)\n",
        "final_rouge['rouge-1']['f']/=len(list_of_rouge)\n",
        "final_rouge['rouge-2']['r']/=len(list_of_rouge)\n",
        "final_rouge['rouge-2']['p']/=len(list_of_rouge)\n",
        "final_rouge['rouge-2']['f']/=len(list_of_rouge)\n",
        "final_rouge['rouge-l']['r']/=len(list_of_rouge)\n",
        "final_rouge['rouge-l']['p']/=len(list_of_rouge)\n",
        "final_rouge['rouge-l']['f']/=len(list_of_rouge)\n",
        "\n",
        "print(final_rouge)"
      ],
      "metadata": {
        "colab": {
          "base_uri": "https://localhost:8080/"
        },
        "id": "JE7ok_YJm55V",
        "outputId": "1ab02fa1-1229-4bbb-fb12-5d60299adef0"
      },
      "execution_count": 15,
      "outputs": [
        {
          "output_type": "stream",
          "name": "stdout",
          "text": [
            "{'rouge-1': {'f': 0.08405307834185982, 'p': 0.051347044412385134, 'r': 0.3027681743296919}, 'rouge-2': {'f': 0.02033616108539318, 'p': 0.012603284370296461, 'r': 0.08554887596751025}, 'rouge-l': {'f': 0.07967384391155471, 'p': 0.04859775332820371, 'r': 0.2897710090147396}}\n"
          ]
        }
      ]
    },
    {
      "cell_type": "code",
      "source": [],
      "metadata": {
        "id": "-yM4OrxLJKlg"
      },
      "execution_count": null,
      "outputs": []
    }
  ]
}